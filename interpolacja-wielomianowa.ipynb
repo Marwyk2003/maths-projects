{
 "cells": [
  {
   "cell_type": "markdown",
   "id": "1eb4e1b7",
   "metadata": {},
   "source": [
    "# Interpolowanie wielominau za pomocą Wielomianu Lagranga"
   ]
  },
  {
   "cell_type": "code",
   "execution_count": 89,
   "id": "c8a3c30e",
   "metadata": {},
   "outputs": [],
   "source": [
    "import numpy as np\n",
    "import numpy.polynomial.polynomial as poly\n",
    "from matplotlib import pyplot as plt"
   ]
  },
  {
   "cell_type": "code",
   "execution_count": 134,
   "id": "e8c516a3",
   "metadata": {},
   "outputs": [],
   "source": [
    "# DANE\n",
    "N = 5 # stopień wielomianu\n",
    "X = np.array([0, 1, 3.5, 4, 5, 6]) # wartości x\n",
    "Y = np.array([-120, 0, 1.40625, 0, 0, 120]) # wartości y\n",
    "assert len(X) == len(Y) == N+1\n",
    "assert len(np.unique(X)) == len(X)"
   ]
  },
  {
   "cell_type": "code",
   "execution_count": 135,
   "id": "035334a5",
   "metadata": {},
   "outputs": [],
   "source": [
    "def interpoluj(x, y, n):\n",
    "    '''\n",
    "    Wyznaczanie wielomianu n-tego stopnia na podstawie n+1 wartości x i y\n",
    "    '''\n",
    "    suma = (0)\n",
    "    for i in range(n+1):\n",
    "        iloczyn = (1)\n",
    "        for j in range(n+1):\n",
    "            if i == j:\n",
    "                continue\n",
    "            iloczyn = poly.polymul(iloczyn, (1/(x[i]-x[j]), -x[j]/(x[i]-x[j])))\n",
    "        iloczyn *= y[i]\n",
    "        suma= poly.polyadd(suma, iloczyn)\n",
    "    return suma"
   ]
  },
  {
   "cell_type": "code",
   "execution_count": 136,
   "id": "110bcd82",
   "metadata": {},
   "outputs": [
    {
     "data": {
      "text/plain": [
       "array([   1.,  -15.,   85., -225.,  274., -120.])"
      ]
     },
     "execution_count": 136,
     "metadata": {},
     "output_type": "execute_result"
    }
   ],
   "source": [
    "wsp = interpoluj(X, Y, N)\n",
    "wsp"
   ]
  },
  {
   "cell_type": "code",
   "execution_count": 143,
   "id": "4a3562ce",
   "metadata": {},
   "outputs": [],
   "source": [
    "def rysujWielomian(wsp, start, stop):\n",
    "    '''\n",
    "    Rysowanie wielomianu na podstawie jego współczynników\n",
    "    Współczynniki w kolejności od największego wykładnika do współczynnika wyrazu wolnego\n",
    "    '''\n",
    "    def F(x, wsp):\n",
    "        y = 0\n",
    "        n = len(wsp)\n",
    "        for i in range(n):\n",
    "            y += wsp[n-i-1]*x**i\n",
    "        return y\n",
    "\n",
    "    x = np.linspace(start, stop)\n",
    "    res=[]\n",
    "    plt.plot(x, F(x, wsp))\n",
    "    plt.yscale('symlog')\n",
    "    plt.show()"
   ]
  },
  {
   "cell_type": "code",
   "execution_count": 144,
   "id": "e6e8138d",
   "metadata": {},
   "outputs": [
    {
     "data": {
      "image/png": "[encoded data removed]",
      "text/plain": [
       "<Figure size 432x288 with 1 Axes>"
      ]
     },
     "metadata": {
      "needs_background": "light"
     },
     "output_type": "display_data"
    }
   ],
   "source": [
    "rysujWielomian(wsp, min(X), max(X))"
   ]
  },
  {
   "cell_type": "markdown",
   "id": "181d8755",
   "metadata": {},
   "source": [
    "Żrodła: \n",
    "* https://pl.wikipedia.org/wiki/Interpolacja_wielomianowa - Algorytm i część merytoryczna\n",
    "* https://numpy.org/doc/stable/reference/routines.polynomials.html - dokumentacja biblioteki numpy i zawartej w niej implementacji wielomianów\n",
    "* https://matplotlib.org/stable/api/index - dokumentacja biblioteki matplotlib\n",
    "* https://stackoverflow.com/questions/37352098/plotting-a-polynomial-using-matplotlib-and-coeffiecients - rysowanie wykressu wielomianu"
   ]
  },
  {
   "cell_type": "code",
   "execution_count": null,
   "id": "5437e2bb",
   "metadata": {},
   "outputs": [],
   "source": []
  }
 ],
 "metadata": {
  "kernelspec": {
   "display_name": "Python 3 (ipykernel)",
   "language": "python",
   "name": "python3"
  },
  "language_info": {
   "codemirror_mode": {
    "name": "ipython",
    "version": 3
   },
   "file_extension": ".py",
   "mimetype": "text/x-python",
   "name": "python",
   "nbconvert_exporter": "python",
   "pygments_lexer": "ipython3",
   "version": "3.10.5"
  }
 },
 "nbformat": 4,
 "nbformat_minor": 5
}
