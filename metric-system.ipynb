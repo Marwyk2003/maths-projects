{
 "cells": [
  {
   "cell_type": "markdown",
   "id": "925f3bed",
   "metadata": {},
   "source": [
    "motivation: https://www.youtube.com/watch?v=ND1iE4WvTKg"
   ]
  },
  {
   "cell_type": "code",
   "execution_count": 54,
   "id": "4d5709d4",
   "metadata": {},
   "outputs": [],
   "source": [
    "import matplotlib.pyplot as plt\n",
    "import numpy as np\n",
    "from ipywidgets import interact\n"
   ]
  },
  {
   "cell_type": "markdown",
   "id": "a98bcb80",
   "metadata": {},
   "source": [
    "$\\sqrt[p]{|x_1-x_2|^p+|y_1-y_2|^p}=1$"
   ]
  },
  {
   "cell_type": "markdown",
   "id": "411111c3",
   "metadata": {},
   "source": [
    "For $(x_1,y_1) = (0,0)$:\n",
    "\n",
    "$\\sqrt[p]{|x|^p+|y|^p}=1$"
   ]
  },
  {
   "cell_type": "markdown",
   "id": "0a66f2cb",
   "metadata": {},
   "source": [
    "$y=x \\cdot tan(a)$\n",
    "\n",
    "$|x|^p+|x|^p \\cdot |tan(a)|^p = 1$\n",
    "\n",
    "$x=\\pm\\sqrt[p]{\\frac{1}{1+|tan(a)|^p}}$"
   ]
  },
  {
   "cell_type": "code",
   "execution_count": 55,
   "id": "04af2575",
   "metadata": {},
   "outputs": [],
   "source": [
    "def f(x, p):\n",
    "    return np.power(1-np.power(np.abs(x), p), 1/p)\n"
   ]
  },
  {
   "cell_type": "code",
   "execution_count": 56,
   "id": "9023716d",
   "metadata": {},
   "outputs": [],
   "source": [
    "def p_metric(p):\n",
    "    x1 = np.linspace(-1, 1)\n",
    "    y1 = np.linspace(-1, 1)\n",
    "    # x = np.power(1/(1 + np.power(np.abs(np.tan(a)), p)), 1/p)\n",
    "    x = np.concatenate([x1, x1, f(y1, p), -f(y1, p)])\n",
    "    y = np.concatenate([f(x1, p), -f(x1, p), y1, y1])\n",
    "    return x, y\n"
   ]
  },
  {
   "cell_type": "code",
   "execution_count": 57,
   "id": "adf1c80c",
   "metadata": {},
   "outputs": [],
   "source": [
    "def plot_metric(p):\n",
    "    x, y = p_metric(p)\n",
    "    fig, ax = plt.subplots()\n",
    "    ax.set_aspect('equal', adjustable='box')\n",
    "    ax.spines['left'].set_position('center')\n",
    "    ax.spines['bottom'].set_position('center')\n",
    "    ax.spines['right'].set_color('none')\n",
    "    ax.spines['top'].set_color('none')\n",
    "    ax.scatter(x, y)"
   ]
  },
  {
   "cell_type": "code",
   "execution_count": 58,
   "id": "9eb6dcd9",
   "metadata": {},
   "outputs": [
    {
     "data": {
      "image/png": "[encoded data removed]",
      "text/plain": [
       "<Figure size 432x288 with 1 Axes>"
      ]
     },
     "metadata": {
      "needs_background": "light"
     },
     "output_type": "display_data"
    }
   ],
   "source": [
    "plot_metric(2)"
   ]
  },
  {
   "cell_type": "code",
   "execution_count": 59,
   "id": "76898c5e",
   "metadata": {},
   "outputs": [
    {
     "data": {
      "application/vnd.jupyter.widget-view+json": {
       "model_id": "b33bc0d884fd45128b2ab6c6edc5f49c",
       "version_major": 2,
       "version_minor": 0
      },
      "text/plain": [
       "interactive(children=(IntSlider(value=1, description='t', max=5, min=-2), Output()), _dom_classes=('widget-int…"
      ]
     },
     "metadata": {},
     "output_type": "display_data"
    }
   ],
   "source": [
    "@interact(t=(-2, 5))\n",
    "def slider_metric(t):\n",
    "    p = 2**t\n",
    "    plot_metric(p)\n"
   ]
  },
  {
   "cell_type": "code",
   "execution_count": null,
   "id": "cc4c0a41",
   "metadata": {},
   "outputs": [],
   "source": []
  }
 ],
 "metadata": {
  "kernelspec": {
   "display_name": "Python 3.10.5 64-bit",
   "language": "python",
   "name": "python3"
  },
  "language_info": {
   "codemirror_mode": {
    "name": "ipython",
    "version": 3
   },
   "file_extension": ".py",
   "mimetype": "text/x-python",
   "name": "python",
   "nbconvert_exporter": "python",
   "pygments_lexer": "ipython3",
   "version": "3.10.5"
  },
  "vscode": {
   "interpreter": {
    "hash": "e7370f93d1d0cde622a1f8e1c04877d8463912d04d973331ad4851f04de6915a"
   }
  }
 },
 "nbformat": 4,
 "nbformat_minor": 5
}
