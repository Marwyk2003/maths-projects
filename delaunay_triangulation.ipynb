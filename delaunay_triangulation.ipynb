{
 "cells": [
  {
   "cell_type": "markdown",
   "id": "5ba36a9b",
   "metadata": {},
   "source": [
    "# Generating mesh using delanuary triangulation\n",
    "src: https://en.wikipedia.org/wiki/Delaunay_triangulation"
   ]
  },
  {
   "cell_type": "code",
   "execution_count": 147,
   "id": "0b5788e3",
   "metadata": {},
   "outputs": [],
   "source": [
    "import functools\n",
    "import numpy as np"
   ]
  },
  {
   "cell_type": "code",
   "execution_count": 148,
   "id": "7f8bca05",
   "metadata": {},
   "outputs": [],
   "source": [
    "class Point:\n",
    "    def __init__(self, x, y, name=''):\n",
    "        self.x=x\n",
    "        self.y=y\n",
    "        self.name=name\n",
    "    \n",
    "    @property\n",
    "    def quad(self):\n",
    "        return ((self.x>=0)^(self.y>=0))|((self.y<0)<<1);\n",
    "    \n",
    "    @classmethod\n",
    "    def polar_cmp(cls, a, b):\n",
    "        if a.quad == b.quad:\n",
    "            return -1 if (a.x*b.y-a.y*b.x)>0 else 1\n",
    "        return -1 if a.quad < b.quad else 1\n",
    "    \n",
    "    @classmethod\n",
    "    def polar_sort(cls, points):\n",
    "        return sorted(points, key=functools.cmp_to_key(cls.polar_cmp))\n",
    "    \n",
    "    def __repr__(self):\n",
    "        return f'Point {self.name}: ({self.x}, {self.y})'"
   ]
  },
  {
   "cell_type": "code",
   "execution_count": 149,
   "id": "58c908d9",
   "metadata": {},
   "outputs": [],
   "source": [
    "def is_delanuary(triangle, point):\n",
    "    assert len(triangle)==3\n",
    "    verticies = Point.polar_sort(triangle)+[point]\n",
    "    matrix = np.array([[v.x, v.y, v.x**2+v.y**2, 1] for v in verticies])\n",
    "    det = np.linalg.det(matrix)\n",
    "    return det <= 0"
   ]
  },
  {
   "cell_type": "code",
   "execution_count": 150,
   "id": "b1ed3543",
   "metadata": {},
   "outputs": [],
   "source": [
    "def flip(t1, t2):\n",
    "    assert len(t1)==len(t2)==3\n",
    "    points = list(set(t1)|set(t2))\n",
    "    assert len(points)==4\n",
    "    ps = Point.polar_sort(points)\n",
    "    if is_delanuary(ps[:-1], ps[-1]):\n",
    "        return ps[:-1], ps[1:]\n",
    "    return ps[:2]+[ps[-1]], [ps[0]]+ps[2:]"
   ]
  },
  {
   "cell_type": "code",
   "execution_count": 151,
   "id": "5ccb312d",
   "metadata": {},
   "outputs": [],
   "source": [
    "def is_right(l1, l2, p):\n",
    "    return ((l2.x-l1.x)*(p.y-l1.y)-(l2.y-l1.y)*(p.x-l1.x)) > 0;"
   ]
  },
  {
   "cell_type": "code",
   "execution_count": 152,
   "id": "0877d83e",
   "metadata": {},
   "outputs": [],
   "source": [
    "def inside_triangle(triangle, point):\n",
    "    assert len(triangle)==3\n",
    "    d1=is_right(triangle[0], triangle[1], point)\n",
    "    d2=is_right(triangle[1], triangle[2], point)\n",
    "    d3=is_right(triangle[2], triangle[0], point)\n",
    "    return d1==d2==d3"
   ]
  },
  {
   "cell_type": "code",
   "execution_count": 153,
   "id": "9b3e6a20",
   "metadata": {},
   "outputs": [],
   "source": [
    "def find_triangle(triangles, point):\n",
    "    for t in triangles:\n",
    "        if inside_triangle(t, point):\n",
    "            return t"
   ]
  },
  {
   "cell_type": "code",
   "execution_count": 154,
   "id": "f97a6a79",
   "metadata": {},
   "outputs": [],
   "source": [
    "x=Point(1,1,'x')\n",
    "y=Point(0,1,'y')\n",
    "z=Point(2,0,'z')\n",
    "q=Point(3,4,'q')\n",
    "r=Point(0,2,'r')\n",
    "s=Point(-4,-2,'s')\n",
    "points=[x,y,z,q,r,s]"
   ]
  },
  {
   "cell_type": "code",
   "execution_count": 155,
   "id": "5ec85737",
   "metadata": {
    "scrolled": true
   },
   "outputs": [
    {
     "data": {
      "text/plain": [
       "([Point z: (2, 0), Point x: (1, 1), Point y: (0, 1)],\n",
       " [Point z: (2, 0), Point q: (3, 4), Point y: (0, 1)])"
      ]
     },
     "execution_count": 155,
     "metadata": {},
     "output_type": "execute_result"
    }
   ],
   "source": [
    "flip([x,y,z],[x,y,q])"
   ]
  },
  {
   "cell_type": "code",
   "execution_count": 156,
   "id": "851ac114",
   "metadata": {},
   "outputs": [
    {
     "name": "stdout",
     "output_type": "stream",
     "text": [
      "[Point q: (3, 4), Point r: (0, 2), Point s: (-4, -2), Point z: (2, 0)]\n"
     ]
    }
   ],
   "source": [
    "# CREATING POLYGON AROUND THE POINTS\n",
    "assert len(points)>=3\n",
    "polygon = []\n",
    "ps = Point.polar_sort(points)\n",
    "count = len(ps)\n",
    "max_x = max(ps, key=lambda p: p.x)\n",
    "start_i = ps.index(max_x)\n",
    "polygon += [ps[start_i], ps[(start_i+1)%count]]\n",
    "i = (start_i+2)%count\n",
    "while i != start_i:\n",
    "    polygon += [ps[i]]\n",
    "    if is_right(polygon[-3], polygon[-1], polygon[-2]):\n",
    "        polygon.pop(-2)\n",
    "    i=(i+1)%count\n",
    "if is_right(polygon[-2], polygon[0], polygon[-1]):\n",
    "    polygon.pop(-1)\n",
    "print(polygon)"
   ]
  },
  {
   "cell_type": "code",
   "execution_count": 157,
   "id": "16e93c70",
   "metadata": {},
   "outputs": [
    {
     "name": "stdout",
     "output_type": "stream",
     "text": [
      "[[Point q: (3, 4), Point r: (0, 2), Point s: (-4, -2)], [Point q: (3, 4), Point s: (-4, -2), Point z: (2, 0)]]\n"
     ]
    }
   ],
   "source": [
    "# TRIANGULATE POLYGON\n",
    "triangles = []\n",
    "for i in range(1, len(polygon)-1):\n",
    "    triangles += [[polygon[0],polygon[i],polygon[i+1]]]\n",
    "    \n",
    "print(triangles)"
   ]
  },
  {
   "cell_type": "code",
   "execution_count": 158,
   "id": "bd1c3ed0",
   "metadata": {},
   "outputs": [
    {
     "data": {
      "text/plain": [
       "[Point q: (3, 4), Point s: (-4, -2), Point z: (2, 0)]"
      ]
     },
     "execution_count": 158,
     "metadata": {},
     "output_type": "execute_result"
    }
   ],
   "source": [
    "find_triangle(triangles, x)"
   ]
  },
  {
   "cell_type": "code",
   "execution_count": 159,
   "id": "5a841104",
   "metadata": {},
   "outputs": [
    {
     "name": "stdout",
     "output_type": "stream",
     "text": [
      "Point x: (1, 1)\n",
      "Point y: (0, 1)\n",
      "[[Point q: (3, 4), Point r: (0, 2), Point s: (-4, -2)], [Point s: (-4, -2), Point z: (2, 0), Point x: (1, 1)], [Point z: (2, 0), Point q: (3, 4), Point x: (1, 1)], [Point q: (3, 4), Point s: (-4, -2), Point y: (0, 1)], [Point s: (-4, -2), Point x: (1, 1), Point y: (0, 1)], [Point x: (1, 1), Point q: (3, 4), Point y: (0, 1)]]\n"
     ]
    }
   ],
   "source": [
    "inside_points = list(set(ps)-set(polygon))\n",
    "for p in inside_points:\n",
    "    print(p)\n",
    "    t = find_triangle(triangles, p)\n",
    "    triangles.remove(t)\n",
    "    triangles += [[t[0],t[1],p], [t[1],t[2],p], [t[2],t[0],p]]\n",
    "\n",
    "print(triangles)"
   ]
  },
  {
   "cell_type": "code",
   "execution_count": 160,
   "id": "e32eb0cc",
   "metadata": {},
   "outputs": [
    {
     "data": {
      "image/png": "[encoded data removed]",
      "text/plain": [
       "<Figure size 432x288 with 1 Axes>"
      ]
     },
     "metadata": {
      "needs_background": "light"
     },
     "output_type": "display_data"
    }
   ],
   "source": [
    "import numpy as np \n",
    "import matplotlib.pyplot as plt\n",
    "\n",
    "X = np.array(list(map(lambda p: [p.x, p.y], points)))\n",
    "plt.figure()\n",
    "\n",
    "Xt = []\n",
    "colors = ['blue', 'green', 'yellow', 'red', 'purple', 'grey']\n",
    "for i, t in enumerate(triangles):\n",
    "    cords = list(map(lambda p: [p.x, p.y], t))\n",
    "    t1 = plt.Polygon(cords, color=colors[i])\n",
    "    plt.gca().add_patch(t1)\n",
    "plt.scatter(X[:, 0], X[:, 1], s = 170)\n",
    "plt.show()"
   ]
  },
  {
   "cell_type": "code",
   "execution_count": 161,
   "id": "3fa8d531",
   "metadata": {},
   "outputs": [
    {
     "name": "stdout",
     "output_type": "stream",
     "text": [
      "[Point q: (3, 4), Point r: (0, 2), Point s: (-4, -2)] Point x: (1, 1)\n",
      "[Point q: (3, 4), Point r: (0, 2), Point s: (-4, -2)] Point y: (0, 1)\n",
      "[Point q: (3, 4), Point r: (0, 2), Point s: (-4, -2)] Point z: (2, 0)\n",
      "[Point s: (-4, -2), Point z: (2, 0), Point x: (1, 1)] Point y: (0, 1)\n",
      "[Point z: (2, 0), Point q: (3, 4), Point x: (1, 1)] Point y: (0, 1)\n",
      "[Point z: (2, 0), Point q: (3, 4), Point x: (1, 1)] Point r: (0, 2)\n",
      "[Point z: (2, 0), Point q: (3, 4), Point x: (1, 1)] Point s: (-4, -2)\n",
      "[Point q: (3, 4), Point s: (-4, -2), Point y: (0, 1)] Point x: (1, 1)\n",
      "[Point q: (3, 4), Point s: (-4, -2), Point y: (0, 1)] Point z: (2, 0)\n",
      "[Point s: (-4, -2), Point x: (1, 1), Point y: (0, 1)] Point z: (2, 0)\n",
      "[Point x: (1, 1), Point q: (3, 4), Point y: (0, 1)] Point r: (0, 2)\n"
     ]
    }
   ],
   "source": [
    "for t in triangles:\n",
    "    for p in points:\n",
    "        if p in t:\n",
    "            continue\n",
    "        if not is_delanuary(t,p):\n",
    "            print(t,p)"
   ]
  },
  {
   "cell_type": "code",
   "execution_count": null,
   "id": "55f01213",
   "metadata": {},
   "outputs": [],
   "source": []
  }
 ],
 "metadata": {
  "kernelspec": {
   "display_name": "Python 3 (ipykernel)",
   "language": "python",
   "name": "python3"
  },
  "language_info": {
   "codemirror_mode": {
    "name": "ipython",
    "version": 3
   },
   "file_extension": ".py",
   "mimetype": "text/x-python",
   "name": "python",
   "nbconvert_exporter": "python",
   "pygments_lexer": "ipython3",
   "version": "3.10.5"
  }
 },
 "nbformat": 4,
 "nbformat_minor": 5
}
